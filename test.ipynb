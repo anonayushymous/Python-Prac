{
 "cells": [
  {
   "cell_type": "code",
   "execution_count": 1,
   "metadata": {},
   "outputs": [
    {
     "name": "stdout",
     "output_type": "stream",
     "text": [
      "You are allowed to vote in election\n"
     ]
    }
   ],
   "source": [
    "## if statement\n",
    "age=20\n",
    "if age>=18:\n",
    "    print(\"You are allowed to vote in election\")"
   ]
  },
  {
   "cell_type": "code",
   "execution_count": 4,
   "metadata": {},
   "outputs": [
    {
     "name": "stdout",
     "output_type": "stream",
     "text": [
      "You are a minor\n"
     ]
    }
   ],
   "source": [
    "## else statment\n",
    "\n",
    "age=16\n",
    "if age>=18:\n",
    "    print(\"elegible for voting\")\n",
    "else:\n",
    "    print (\"You are a minor\")"
   ]
  },
  {
   "cell_type": "code",
   "execution_count": 9,
   "metadata": {},
   "outputs": [
    {
     "name": "stdout",
     "output_type": "stream",
     "text": [
      "You are an adult\n"
     ]
    }
   ],
   "source": [
    "## elif statement\n",
    "age=20\n",
    "if age<13:\n",
    "    print(\"You are a child\")\n",
    "elif age<18:\n",
    "    print (\"You are teenager\")\n",
    "else:\n",
    "    print (\"You are an adult\")"
   ]
  },
  {
   "cell_type": "code",
   "execution_count": 15,
   "metadata": {},
   "outputs": [
    {
     "name": "stdout",
     "output_type": "stream",
     "text": [
      "The no is zero or negative\n"
     ]
    }
   ],
   "source": [
    "## Nested Conditional Statement\n",
    "\n",
    "num=int(input(\"Enter the no.\"))\n",
    "if num>=0:\n",
    "    print(\"The no. is Positive\")\n",
    "    if num%2==0:\n",
    "        print(\"The no. is Even\")\n",
    "    else:\n",
    "        print(\"The no. is Odd\")\n",
    "else:\n",
    "    print(\"The no is zero or negative\")"
   ]
  },
  {
   "cell_type": "code",
   "execution_count": 19,
   "metadata": {},
   "outputs": [
    {
     "name": "stdout",
     "output_type": "stream",
     "text": [
      "2012 This is Leap Year\n"
     ]
    }
   ],
   "source": [
    "## Practical Examples\n",
    "Year=int(input(\"Enter The Year\"))\n",
    "if Year%4==0:\n",
    "    print(Year, \"This is Leap Year\")\n",
    "else:\n",
    "    print(\"This is not leap Year\")"
   ]
  },
  {
   "cell_type": "code",
   "execution_count": 28,
   "metadata": {},
   "outputs": [
    {
     "name": "stdout",
     "output_type": "stream",
     "text": [
      "Result: 0.0\n"
     ]
    }
   ],
   "source": [
    "num1=float(input(\"Enter the no\"))\n",
    "num2=float(input(\"Enter the no\"))\n",
    "operation=input(\"Enter Operation(+,-,*,/)\")\n",
    "\n",
    "if operation == '+':\n",
    "    result= num1 + num2\n",
    "elif operation == '-':\n",
    "    result= num1 - num2\n",
    "elif operation == '*':\n",
    "    result= num1 * num2\n",
    "elif operation == '/':\n",
    "    if num2 != 0:\n",
    "        result= num1 / num2\n",
    "    else:\n",
    "        print(\"Invalid Operation\")\n",
    "print(\"Result:\" ,result)"
   ]
  },
  {
   "cell_type": "code",
   "execution_count": null,
   "metadata": {},
   "outputs": [],
   "source": []
  }
 ],
 "metadata": {
  "kernelspec": {
   "display_name": "Python 3.10.6 64-bit",
   "language": "python",
   "name": "python3"
  },
  "language_info": {
   "codemirror_mode": {
    "name": "ipython",
    "version": 3
   },
   "file_extension": ".py",
   "mimetype": "text/x-python",
   "name": "python",
   "nbconvert_exporter": "python",
   "pygments_lexer": "ipython3",
   "version": "3.10.6"
  },
  "orig_nbformat": 4,
  "vscode": {
   "interpreter": {
    "hash": "5628772dfb9a59069da408bf249181f154b897a9e189e4596c1ff3aa3e558160"
   }
  }
 },
 "nbformat": 4,
 "nbformat_minor": 2
}
