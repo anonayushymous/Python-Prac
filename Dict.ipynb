{
 "cells": [
  {
   "cell_type": "code",
   "execution_count": 16,
   "metadata": {},
   "outputs": [
    {
     "name": "stdout",
     "output_type": "stream",
     "text": [
      "{'name': 'Ayush', 'Age': 21, 'Gender': 'Male'}\n"
     ]
    }
   ],
   "source": [
    "## Dictionaries\n",
    "\n",
    "student={\"name\":\"Ayush\", \"Age\":21, \"Gender\":\"Male\"}\n",
    "print(student)"
   ]
  },
  {
   "cell_type": "code",
   "execution_count": 17,
   "metadata": {},
   "outputs": [
    {
     "name": "stdout",
     "output_type": "stream",
     "text": [
      "Ayush\n",
      "21\n",
      "Not Available\n"
     ]
    }
   ],
   "source": [
    "## Accessing Dict\n",
    "print(student['name'])\n",
    "\n",
    "## Accessing using get() method\n",
    "\n",
    "print(student.get(\"Age\"))\n",
    "print(student.get('Num', 'Not Available'))"
   ]
  },
  {
   "cell_type": "code",
   "execution_count": 18,
   "metadata": {},
   "outputs": [
    {
     "name": "stdout",
     "output_type": "stream",
     "text": [
      "{'name': 'Ayush', 'Age': 33, 'Gender': 'Male'}\n",
      "{'name': 'Ayush', 'Age': 33, 'Gender': 'Male', 'Address': 'India'}\n"
     ]
    }
   ],
   "source": [
    "\n",
    "## Modifying Dictionaries\n",
    "\n",
    "student[\"Age\"]=33\n",
    "print(student)\n",
    "student[\"Address\"]=\"India\"\n",
    "print(student)"
   ]
  },
  {
   "cell_type": "code",
   "execution_count": 19,
   "metadata": {},
   "outputs": [
    {
     "name": "stdout",
     "output_type": "stream",
     "text": [
      "{'name': 'Ayush', 'Age': 33, 'Address': 'India'}\n"
     ]
    }
   ],
   "source": [
    "del student[\"Gender\"]\n",
    "print(student)"
   ]
  },
  {
   "cell_type": "code",
   "execution_count": 20,
   "metadata": {},
   "outputs": [
    {
     "name": "stdout",
     "output_type": "stream",
     "text": [
      "dict_keys(['name', 'Age', 'Address'])\n",
      "dict_values(['Ayush', 33, 'India'])\n",
      "dict_items([('name', 'Ayush'), ('Age', 33), ('Address', 'India')])\n"
     ]
    }
   ],
   "source": [
    "keys=student.keys()\n",
    "print(keys)\n",
    "values=student.values()\n",
    "print(values)\n",
    "items=student.items()\n",
    "print(items)\n"
   ]
  },
  {
   "cell_type": "code",
   "execution_count": 21,
   "metadata": {},
   "outputs": [
    {
     "name": "stdout",
     "output_type": "stream",
     "text": [
      "{'name': 'Ayush', 'Age': 33, 'Address': 'India'}\n",
      "{'name': 'Ayush', 'Age': 33, 'Address': 'India'}\n"
     ]
    }
   ],
   "source": [
    "# Shallow Copy \n",
    "\n",
    "student_copy1=student.copy() ## shallow copy it basically allocate diff memory \n",
    "print(student_copy1)\n",
    "print(student)"
   ]
  },
  {
   "cell_type": "code",
   "execution_count": 22,
   "metadata": {},
   "outputs": [
    {
     "name": "stdout",
     "output_type": "stream",
     "text": [
      "{'name': 'Ayush', 'Age': 33, 'Address': 'India'}\n",
      "{'name': 'Harish', 'Age': 33, 'Address': 'India'}\n"
     ]
    }
   ],
   "source": [
    "student[\"name\"]=\"Harish\"\n",
    "print(student_copy1)\n",
    "print(student)"
   ]
  },
  {
   "cell_type": "code",
   "execution_count": 23,
   "metadata": {},
   "outputs": [
    {
     "name": "stdout",
     "output_type": "stream",
     "text": [
      "name\n",
      "Age\n",
      "Address\n"
     ]
    }
   ],
   "source": [
    "## Iterating over Dictionaries\n",
    "## Iterating keys \n",
    "\n",
    "for keys in student.keys():\n",
    "    print(keys)"
   ]
  },
  {
   "cell_type": "code",
   "execution_count": 24,
   "metadata": {},
   "outputs": [
    {
     "name": "stdout",
     "output_type": "stream",
     "text": [
      "Harish\n",
      "33\n",
      "India\n"
     ]
    }
   ],
   "source": [
    "## iterating over values\n",
    "for values in student.values():\n",
    "    print(values)\n",
    "    "
   ]
  },
  {
   "cell_type": "code",
   "execution_count": 32,
   "metadata": {},
   "outputs": [
    {
     "name": "stdout",
     "output_type": "stream",
     "text": [
      "name:Harish\n",
      "Age:33\n",
      "Address:India\n"
     ]
    }
   ],
   "source": [
    "for keys,values in student.items():\n",
    "    print(f\"{keys}:{values}\")"
   ]
  },
  {
   "cell_type": "code",
   "execution_count": 34,
   "metadata": {},
   "outputs": [
    {
     "name": "stdout",
     "output_type": "stream",
     "text": [
      "{'students1': {'name': 'Nayan', 'age': 32}, 'students2': {'name': 'Dev', 'age': 23}}\n"
     ]
    }
   ],
   "source": [
    "## Nested Dictionaries\n",
    "\n",
    "students={\n",
    "    \"students1\":{\"name\":\"Nayan\", \"age\":32},\n",
    "    \"students2\":{\"name\":\"Dev\",\"age\":23}\n",
    "}\n",
    "print(students)"
   ]
  },
  {
   "cell_type": "code",
   "execution_count": 35,
   "metadata": {},
   "outputs": [
    {
     "name": "stdout",
     "output_type": "stream",
     "text": [
      "Dev\n",
      "Dev\n"
     ]
    }
   ],
   "source": [
    "## access Nested Dict\n",
    "print(students[\"students2\"][\"name\"])\n",
    "print(students[\"students2\"][\"name\"])"
   ]
  },
  {
   "cell_type": "code",
   "execution_count": 37,
   "metadata": {},
   "outputs": [
    {
     "name": "stdout",
     "output_type": "stream",
     "text": [
      "students1:{'name': 'Nayan', 'age': 32}\n",
      "name:Nayan\n",
      "age:32\n",
      "students2:{'name': 'Dev', 'age': 23}\n",
      "name:Dev\n",
      "age:23\n"
     ]
    }
   ],
   "source": [
    "## Iterating over nested dict\n",
    "\n",
    "for student_id, student_info in students.items():\n",
    "    print(f\"{student_id}:{student_info}\")\n",
    "    for key,value in student_info.items():\n",
    "        print(f\"{key}:{value}\")"
   ]
  },
  {
   "cell_type": "code",
   "execution_count": 40,
   "metadata": {},
   "outputs": [
    {
     "name": "stdout",
     "output_type": "stream",
     "text": [
      "{0: 0, 1: 1, 2: 4, 3: 9, 4: 16}\n"
     ]
    }
   ],
   "source": [
    "## Dict Comphrehension\n",
    "\n",
    "sq={x:x**2 for x in range (5)}\n",
    "print(sq)"
   ]
  },
  {
   "cell_type": "code",
   "execution_count": 41,
   "metadata": {},
   "outputs": [
    {
     "name": "stdout",
     "output_type": "stream",
     "text": [
      "{0: 0, 2: 4, 4: 16, 6: 36, 8: 64}\n"
     ]
    }
   ],
   "source": [
    "## Condition Dict Comphrehension\n",
    "\n",
    "ev={x:x**2 for x in range(10) if x%2==0}\n",
    "print(ev)"
   ]
  },
  {
   "cell_type": "code",
   "execution_count": 43,
   "metadata": {},
   "outputs": [
    {
     "name": "stdout",
     "output_type": "stream",
     "text": [
      "{'a': 1, 'b': 2, 'c': 3, 'd': 4}\n"
     ]
    }
   ],
   "source": [
    "dict1={\"a\":1, \"b\":2}\n",
    "dict2={\"c\":3, \"d\":4}\n",
    "mergede_dict={**dict1,**dict2}\n",
    "print(mergede_dict)"
   ]
  },
  {
   "cell_type": "code",
   "execution_count": null,
   "metadata": {},
   "outputs": [],
   "source": []
  },
  {
   "cell_type": "code",
   "execution_count": null,
   "metadata": {},
   "outputs": [],
   "source": []
  }
 ],
 "metadata": {
  "kernelspec": {
   "display_name": "Python 3.10.6 64-bit",
   "language": "python",
   "name": "python3"
  },
  "language_info": {
   "codemirror_mode": {
    "name": "ipython",
    "version": 3
   },
   "file_extension": ".py",
   "mimetype": "text/x-python",
   "name": "python",
   "nbconvert_exporter": "python",
   "pygments_lexer": "ipython3",
   "version": "3.10.6"
  },
  "orig_nbformat": 4,
  "vscode": {
   "interpreter": {
    "hash": "5628772dfb9a59069da408bf249181f154b897a9e189e4596c1ff3aa3e558160"
   }
  }
 },
 "nbformat": 4,
 "nbformat_minor": 2
}
