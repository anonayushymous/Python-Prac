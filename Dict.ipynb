{
 "cells": [
  {
   "cell_type": "code",
   "execution_count": 49,
   "metadata": {},
   "outputs": [
    {
     "name": "stdout",
     "output_type": "stream",
     "text": [
      "{'name': 'Ayush', 'Age': 21, 'Gender': 'Male'}\n"
     ]
    }
   ],
   "source": [
    "## Dictionaries\n",
    "\n",
    "student={\"name\":\"Ayush\", \"Age\":21, \"Gender\":\"Male\"}\n",
    "print(student)"
   ]
  },
  {
   "cell_type": "code",
   "execution_count": 50,
   "metadata": {},
   "outputs": [
    {
     "name": "stdout",
     "output_type": "stream",
     "text": [
      "Ayush\n",
      "21\n",
      "Not Available\n"
     ]
    }
   ],
   "source": [
    "## Accessing Dict\n",
    "print(student['name'])\n",
    "\n",
    "## Accessing using get() method\n",
    "\n",
    "print(student.get(\"Age\"))\n",
    "print(student.get('Num', 'Not Available'))"
   ]
  },
  {
   "cell_type": "code",
   "execution_count": 51,
   "metadata": {},
   "outputs": [
    {
     "name": "stdout",
     "output_type": "stream",
     "text": [
      "{'name': 'Ayush', 'Age': 33, 'Gender': 'Male'}\n",
      "{'name': 'Ayush', 'Age': 33, 'Gender': 'Male', 'Address': 'India'}\n"
     ]
    }
   ],
   "source": [
    "\n",
    "## Modifying Dictionaries\n",
    "\n",
    "student[\"Age\"]=33\n",
    "print(student)\n",
    "student[\"Address\"]=\"India\"\n",
    "print(student)"
   ]
  },
  {
   "cell_type": "code",
   "execution_count": 52,
   "metadata": {},
   "outputs": [
    {
     "name": "stdout",
     "output_type": "stream",
     "text": [
      "{'name': 'Ayush', 'Age': 33, 'Address': 'India'}\n"
     ]
    }
   ],
   "source": [
    "del student[\"Gender\"]\n",
    "print(student)"
   ]
  },
  {
   "cell_type": "code",
   "execution_count": null,
   "metadata": {},
   "outputs": [],
   "source": []
  }
 ],
 "metadata": {
  "kernelspec": {
   "display_name": "Python 3.10.6 64-bit",
   "language": "python",
   "name": "python3"
  },
  "language_info": {
   "codemirror_mode": {
    "name": "ipython",
    "version": 3
   },
   "file_extension": ".py",
   "mimetype": "text/x-python",
   "name": "python",
   "nbconvert_exporter": "python",
   "pygments_lexer": "ipython3",
   "version": "3.10.6"
  },
  "orig_nbformat": 4,
  "vscode": {
   "interpreter": {
    "hash": "5628772dfb9a59069da408bf249181f154b897a9e189e4596c1ff3aa3e558160"
   }
  }
 },
 "nbformat": 4,
 "nbformat_minor": 2
}
